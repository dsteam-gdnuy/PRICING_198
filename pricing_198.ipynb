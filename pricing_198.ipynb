{
 "cells": [
  {
   "cell_type": "code",
   "execution_count": 1,
   "id": "3860dcfc",
   "metadata": {},
   "outputs": [],
   "source": [
    "from utils import snowflake_login, enviar_email\n",
    "import os\n",
    "from datetime import date"
   ]
  },
  {
   "cell_type": "code",
   "execution_count": 2,
   "id": "9d965253",
   "metadata": {},
   "outputs": [
    {
     "data": {
      "text/plain": [
       "'C:\\\\USERS\\\\MARCOS.LARRAN\\\\DESKTOP\\\\GITHUB\\\\PRICING_198'"
      ]
     },
     "execution_count": 2,
     "metadata": {},
     "output_type": "execute_result"
    }
   ],
   "source": [
    "os.getcwd().upper()"
   ]
  },
  {
   "cell_type": "code",
   "execution_count": 3,
   "id": "980f7ebb",
   "metadata": {},
   "outputs": [
    {
     "name": "stdout",
     "output_type": "stream",
     "text": [
      "Intento 1\n",
      "Correct Password - connected to SNOWFLAKE\n"
     ]
    }
   ],
   "source": [
    "user, cursor, snowflake_connection = snowflake_login()"
   ]
  },
  {
   "cell_type": "code",
   "execution_count": 4,
   "id": "37fa4360",
   "metadata": {},
   "outputs": [
    {
     "data": {
      "text/plain": [
       "[(2,)]"
      ]
     },
     "execution_count": 4,
     "metadata": {},
     "output_type": "execute_result"
    }
   ],
   "source": [
    "cursor.execute('''SELECT COUNT(DISTINCT TIEM_DIA_ID) FROM SANDBOX_PLUS.DWH.RETAIL_COMPETENCIAS_UNIFICADO\n",
    "WHERE TIEM_DIA_ID > (SELECT MAX(FECHA_EJECUCION) FROM SANDBOX_PLUS.DWH.RESULTADO_MODELO_PRICING_198);\n",
    "               ''')\n",
    "cont = cursor.fetchall()\n",
    "cont"
   ]
  },
  {
   "cell_type": "code",
   "execution_count": 5,
   "id": "78d20fd3",
   "metadata": {},
   "outputs": [
    {
     "name": "stdout",
     "output_type": "stream",
     "text": [
      "Ok\n"
     ]
    }
   ],
   "source": [
    "if cont[0][0] > 1:\n",
    "    print('Ok')\n",
    "else:\n",
    "    enviar_email(sender='marcos.larran@tata.com.uy', receiver=['ds-team@gdn.com.uy'],\n",
    "                 subject='Modelo Pricing Ecommerce', body='Checkear task', files=[])"
   ]
  },
  {
   "cell_type": "code",
   "execution_count": 8,
   "id": "b34a4545",
   "metadata": {},
   "outputs": [
    {
     "data": {
      "text/html": [
       "<div>\n",
       "<style scoped>\n",
       "    .dataframe tbody tr th:only-of-type {\n",
       "        vertical-align: middle;\n",
       "    }\n",
       "\n",
       "    .dataframe tbody tr th {\n",
       "        vertical-align: top;\n",
       "    }\n",
       "\n",
       "    .dataframe thead th {\n",
       "        text-align: right;\n",
       "    }\n",
       "</style>\n",
       "<table border=\"1\" class=\"dataframe\">\n",
       "  <thead>\n",
       "    <tr style=\"text-align: right;\">\n",
       "      <th></th>\n",
       "      <th>CODIGO_TIENDA</th>\n",
       "      <th>NOMBRE_TIENDA</th>\n",
       "      <th>GRUPO</th>\n",
       "      <th>DEPT</th>\n",
       "      <th>CLASS</th>\n",
       "      <th>SUBCLASS</th>\n",
       "      <th>FAMILIA</th>\n",
       "      <th>INTEGRANTES_FAMILIA</th>\n",
       "      <th>ORIN</th>\n",
       "      <th>DESCRIPCION</th>\n",
       "      <th>...</th>\n",
       "      <th>ESTA_EN_PROMO</th>\n",
       "      <th>ESTA_EN_LIQUIDACION</th>\n",
       "      <th>RAZON_DE_EXCLUSION</th>\n",
       "      <th>POS_ACTUAL</th>\n",
       "      <th>POS_NUEVO</th>\n",
       "      <th>ULTIMO_PRECIO_ENVIADO</th>\n",
       "      <th>FECHA_ULTIMO_ENVIO</th>\n",
       "      <th>ULTIMA_FECHA_RELEVO</th>\n",
       "      <th>ULTIMO_PRECIO_RELEVADO</th>\n",
       "      <th>FECHA_ENVIO_INFO</th>\n",
       "    </tr>\n",
       "  </thead>\n",
       "  <tbody>\n",
       "    <tr>\n",
       "      <th>0</th>\n",
       "      <td>198</td>\n",
       "      <td>Darkstore</td>\n",
       "      <td>TEXTIL</td>\n",
       "      <td>BEBE NENA</td>\n",
       "      <td>VESTIMENTA</td>\n",
       "      <td>ROPA DE PLAYA</td>\n",
       "      <td>1000424274</td>\n",
       "      <td>4</td>\n",
       "      <td>1000432112</td>\n",
       "      <td>H&amp;G BEBE NENA BOMBACHA PLAYA FLORES SALMON 9/12m</td>\n",
       "      <td>...</td>\n",
       "      <td>NaN</td>\n",
       "      <td>NaN</td>\n",
       "      <td>None</td>\n",
       "      <td>NaN</td>\n",
       "      <td>NaN</td>\n",
       "      <td>167.814626</td>\n",
       "      <td>2025-08-04</td>\n",
       "      <td>None</td>\n",
       "      <td>NaN</td>\n",
       "      <td>2025-08-06</td>\n",
       "    </tr>\n",
       "    <tr>\n",
       "      <th>1</th>\n",
       "      <td>198</td>\n",
       "      <td>Darkstore</td>\n",
       "      <td>PERFUMERIA</td>\n",
       "      <td>CUIDADO CORPORAL</td>\n",
       "      <td>DESODORANTE MUJER</td>\n",
       "      <td>DESODORANTES EN CREMA MUJER</td>\n",
       "      <td>1000040640</td>\n",
       "      <td>4</td>\n",
       "      <td>1000040640</td>\n",
       "      <td>DESODORANTE EN CREMA REXONA CLINICAL DAMA 48 GR</td>\n",
       "      <td>...</td>\n",
       "      <td>1.0</td>\n",
       "      <td>NaN</td>\n",
       "      <td>ARTICULOS EN PROMOCION</td>\n",
       "      <td>0.95</td>\n",
       "      <td>NaN</td>\n",
       "      <td>NaN</td>\n",
       "      <td>None</td>\n",
       "      <td>2025-08-06</td>\n",
       "      <td>437.0</td>\n",
       "      <td>2025-08-06</td>\n",
       "    </tr>\n",
       "    <tr>\n",
       "      <th>2</th>\n",
       "      <td>198</td>\n",
       "      <td>Darkstore</td>\n",
       "      <td>LACTEOS</td>\n",
       "      <td>MANTEQUILLAS Y CREMAS</td>\n",
       "      <td>CREMAS</td>\n",
       "      <td>CREMA DE LECHE NATURAL</td>\n",
       "      <td>1000047647</td>\n",
       "      <td>1</td>\n",
       "      <td>1000047647</td>\n",
       "      <td>CREMA DE LECHE COLONIAL SACHET 500 ML</td>\n",
       "      <td>...</td>\n",
       "      <td>NaN</td>\n",
       "      <td>NaN</td>\n",
       "      <td>None</td>\n",
       "      <td>1.09</td>\n",
       "      <td>0.99</td>\n",
       "      <td>149.000000</td>\n",
       "      <td>2025-08-04</td>\n",
       "      <td>2025-08-06</td>\n",
       "      <td>154.9</td>\n",
       "      <td>2025-08-06</td>\n",
       "    </tr>\n",
       "    <tr>\n",
       "      <th>3</th>\n",
       "      <td>198</td>\n",
       "      <td>Darkstore</td>\n",
       "      <td>NAVIDAD</td>\n",
       "      <td>DECORACION ARBOL NAVIDENO</td>\n",
       "      <td>ADORNOS PARA EL ARBOL</td>\n",
       "      <td>COLGANTES MINIATURAS</td>\n",
       "      <td>1000436099</td>\n",
       "      <td>2</td>\n",
       "      <td>1000436099</td>\n",
       "      <td>ADORNO CORAZON 3 UNIDADES</td>\n",
       "      <td>...</td>\n",
       "      <td>NaN</td>\n",
       "      <td>NaN</td>\n",
       "      <td>None</td>\n",
       "      <td>NaN</td>\n",
       "      <td>NaN</td>\n",
       "      <td>46.443170</td>\n",
       "      <td>2025-08-04</td>\n",
       "      <td>None</td>\n",
       "      <td>NaN</td>\n",
       "      <td>2025-08-06</td>\n",
       "    </tr>\n",
       "    <tr>\n",
       "      <th>4</th>\n",
       "      <td>198</td>\n",
       "      <td>Darkstore</td>\n",
       "      <td>HOGAR</td>\n",
       "      <td>EQUIPAMIENTOS DE BANO</td>\n",
       "      <td>ACCESORIOS DE BANO</td>\n",
       "      <td>ACCESORIOS DE BANO Y DUCHA INDIVIDUALES</td>\n",
       "      <td>1000524468</td>\n",
       "      <td>1</td>\n",
       "      <td>1000524468</td>\n",
       "      <td>ESPONJA DE BA?O LOOFAH</td>\n",
       "      <td>...</td>\n",
       "      <td>NaN</td>\n",
       "      <td>NaN</td>\n",
       "      <td>None</td>\n",
       "      <td>NaN</td>\n",
       "      <td>NaN</td>\n",
       "      <td>59.194732</td>\n",
       "      <td>2025-08-04</td>\n",
       "      <td>None</td>\n",
       "      <td>NaN</td>\n",
       "      <td>2025-08-06</td>\n",
       "    </tr>\n",
       "    <tr>\n",
       "      <th>...</th>\n",
       "      <td>...</td>\n",
       "      <td>...</td>\n",
       "      <td>...</td>\n",
       "      <td>...</td>\n",
       "      <td>...</td>\n",
       "      <td>...</td>\n",
       "      <td>...</td>\n",
       "      <td>...</td>\n",
       "      <td>...</td>\n",
       "      <td>...</td>\n",
       "      <td>...</td>\n",
       "      <td>...</td>\n",
       "      <td>...</td>\n",
       "      <td>...</td>\n",
       "      <td>...</td>\n",
       "      <td>...</td>\n",
       "      <td>...</td>\n",
       "      <td>...</td>\n",
       "      <td>...</td>\n",
       "      <td>...</td>\n",
       "      <td>...</td>\n",
       "    </tr>\n",
       "    <tr>\n",
       "      <th>7341</th>\n",
       "      <td>198</td>\n",
       "      <td>Darkstore</td>\n",
       "      <td>TEXTIL</td>\n",
       "      <td>MUJER</td>\n",
       "      <td>VESTIMENTA</td>\n",
       "      <td>VESTIDOS</td>\n",
       "      <td>1000467222</td>\n",
       "      <td>6</td>\n",
       "      <td>1000467253</td>\n",
       "      <td>H&amp;G MUJER VESTIDO MANGA CORTA VISCOSA AZUL MAR...</td>\n",
       "      <td>...</td>\n",
       "      <td>NaN</td>\n",
       "      <td>NaN</td>\n",
       "      <td>None</td>\n",
       "      <td>NaN</td>\n",
       "      <td>NaN</td>\n",
       "      <td>409.592030</td>\n",
       "      <td>2025-08-04</td>\n",
       "      <td>None</td>\n",
       "      <td>NaN</td>\n",
       "      <td>2025-08-06</td>\n",
       "    </tr>\n",
       "    <tr>\n",
       "      <th>7342</th>\n",
       "      <td>198</td>\n",
       "      <td>Darkstore</td>\n",
       "      <td>COMESTIBLES</td>\n",
       "      <td>DESAYUNO Y MERIENDA</td>\n",
       "      <td>YERBA</td>\n",
       "      <td>COMPUESTAS</td>\n",
       "      <td>1000050571</td>\n",
       "      <td>2</td>\n",
       "      <td>1000050571</td>\n",
       "      <td>YERBA CANARIAS TE VERDE Y JENGIBRE 500 GR</td>\n",
       "      <td>...</td>\n",
       "      <td>NaN</td>\n",
       "      <td>NaN</td>\n",
       "      <td>None</td>\n",
       "      <td>0.93</td>\n",
       "      <td>0.99</td>\n",
       "      <td>105.000000</td>\n",
       "      <td>2025-08-04</td>\n",
       "      <td>2025-08-05</td>\n",
       "      <td>122.0</td>\n",
       "      <td>2025-08-06</td>\n",
       "    </tr>\n",
       "    <tr>\n",
       "      <th>7343</th>\n",
       "      <td>198</td>\n",
       "      <td>Darkstore</td>\n",
       "      <td>COMESTIBLES</td>\n",
       "      <td>SNACKS</td>\n",
       "      <td>SNACKS DE MAIZ</td>\n",
       "      <td>SNACKS TORTILLAS</td>\n",
       "      <td>1000456883</td>\n",
       "      <td>1</td>\n",
       "      <td>1000456883</td>\n",
       "      <td>SNACK CHEETOS PEPSICO 240 G</td>\n",
       "      <td>...</td>\n",
       "      <td>NaN</td>\n",
       "      <td>NaN</td>\n",
       "      <td>None</td>\n",
       "      <td>0.90</td>\n",
       "      <td>1.00</td>\n",
       "      <td>210.000000</td>\n",
       "      <td>2025-08-04</td>\n",
       "      <td>2025-08-05</td>\n",
       "      <td>232.0</td>\n",
       "      <td>2025-08-06</td>\n",
       "    </tr>\n",
       "    <tr>\n",
       "      <th>7344</th>\n",
       "      <td>198</td>\n",
       "      <td>Darkstore</td>\n",
       "      <td>LIBRERIA</td>\n",
       "      <td>ARTES MANUALES</td>\n",
       "      <td>ACTIVIDADES PLASTICAS</td>\n",
       "      <td>TABLAS DIBUJO Y ACCESORIOS</td>\n",
       "      <td>1000046708</td>\n",
       "      <td>1</td>\n",
       "      <td>1000046708</td>\n",
       "      <td>FUNDA TABLA DIBUJ 1/4W EXTREME IMPERMEABLE</td>\n",
       "      <td>...</td>\n",
       "      <td>NaN</td>\n",
       "      <td>NaN</td>\n",
       "      <td>None</td>\n",
       "      <td>NaN</td>\n",
       "      <td>NaN</td>\n",
       "      <td>308.440000</td>\n",
       "      <td>2025-08-04</td>\n",
       "      <td>None</td>\n",
       "      <td>NaN</td>\n",
       "      <td>2025-08-06</td>\n",
       "    </tr>\n",
       "    <tr>\n",
       "      <th>7345</th>\n",
       "      <td>198</td>\n",
       "      <td>Darkstore</td>\n",
       "      <td>CONGELADOS</td>\n",
       "      <td>COMIDAS PARA PREPARAR</td>\n",
       "      <td>VEGETALES</td>\n",
       "      <td>ARVEJAS</td>\n",
       "      <td>1000435586</td>\n",
       "      <td>1</td>\n",
       "      <td>1000435586</td>\n",
       "      <td>ARVEJAS ENVASADAS MCCAIN 500 GR</td>\n",
       "      <td>...</td>\n",
       "      <td>1.0</td>\n",
       "      <td>NaN</td>\n",
       "      <td>ARTICULOS EN PROMOCION</td>\n",
       "      <td>0.93</td>\n",
       "      <td>NaN</td>\n",
       "      <td>NaN</td>\n",
       "      <td>None</td>\n",
       "      <td>2025-08-06</td>\n",
       "      <td>199.0</td>\n",
       "      <td>2025-08-06</td>\n",
       "    </tr>\n",
       "  </tbody>\n",
       "</table>\n",
       "<p>7346 rows × 40 columns</p>\n",
       "</div>"
      ],
      "text/plain": [
       "     CODIGO_TIENDA NOMBRE_TIENDA        GRUPO                       DEPT  \\\n",
       "0              198     Darkstore       TEXTIL                  BEBE NENA   \n",
       "1              198     Darkstore   PERFUMERIA           CUIDADO CORPORAL   \n",
       "2              198     Darkstore      LACTEOS      MANTEQUILLAS Y CREMAS   \n",
       "3              198     Darkstore      NAVIDAD  DECORACION ARBOL NAVIDENO   \n",
       "4              198     Darkstore        HOGAR      EQUIPAMIENTOS DE BANO   \n",
       "...            ...           ...          ...                        ...   \n",
       "7341           198     Darkstore       TEXTIL                      MUJER   \n",
       "7342           198     Darkstore  COMESTIBLES        DESAYUNO Y MERIENDA   \n",
       "7343           198     Darkstore  COMESTIBLES                     SNACKS   \n",
       "7344           198     Darkstore     LIBRERIA             ARTES MANUALES   \n",
       "7345           198     Darkstore   CONGELADOS      COMIDAS PARA PREPARAR   \n",
       "\n",
       "                      CLASS                                 SUBCLASS  \\\n",
       "0                VESTIMENTA                            ROPA DE PLAYA   \n",
       "1         DESODORANTE MUJER              DESODORANTES EN CREMA MUJER   \n",
       "2                    CREMAS                   CREMA DE LECHE NATURAL   \n",
       "3     ADORNOS PARA EL ARBOL                     COLGANTES MINIATURAS   \n",
       "4        ACCESORIOS DE BANO  ACCESORIOS DE BANO Y DUCHA INDIVIDUALES   \n",
       "...                     ...                                      ...   \n",
       "7341             VESTIMENTA                                 VESTIDOS   \n",
       "7342                  YERBA                               COMPUESTAS   \n",
       "7343         SNACKS DE MAIZ                         SNACKS TORTILLAS   \n",
       "7344  ACTIVIDADES PLASTICAS               TABLAS DIBUJO Y ACCESORIOS   \n",
       "7345              VEGETALES                                  ARVEJAS   \n",
       "\n",
       "         FAMILIA  INTEGRANTES_FAMILIA        ORIN  \\\n",
       "0     1000424274                    4  1000432112   \n",
       "1     1000040640                    4  1000040640   \n",
       "2     1000047647                    1  1000047647   \n",
       "3     1000436099                    2  1000436099   \n",
       "4     1000524468                    1  1000524468   \n",
       "...          ...                  ...         ...   \n",
       "7341  1000467222                    6  1000467253   \n",
       "7342  1000050571                    2  1000050571   \n",
       "7343  1000456883                    1  1000456883   \n",
       "7344  1000046708                    1  1000046708   \n",
       "7345  1000435586                    1  1000435586   \n",
       "\n",
       "                                            DESCRIPCION  ... ESTA_EN_PROMO  \\\n",
       "0      H&G BEBE NENA BOMBACHA PLAYA FLORES SALMON 9/12m  ...           NaN   \n",
       "1       DESODORANTE EN CREMA REXONA CLINICAL DAMA 48 GR  ...           1.0   \n",
       "2                 CREMA DE LECHE COLONIAL SACHET 500 ML  ...           NaN   \n",
       "3                             ADORNO CORAZON 3 UNIDADES  ...           NaN   \n",
       "4                                ESPONJA DE BA?O LOOFAH  ...           NaN   \n",
       "...                                                 ...  ...           ...   \n",
       "7341  H&G MUJER VESTIDO MANGA CORTA VISCOSA AZUL MAR...  ...           NaN   \n",
       "7342          YERBA CANARIAS TE VERDE Y JENGIBRE 500 GR  ...           NaN   \n",
       "7343                        SNACK CHEETOS PEPSICO 240 G  ...           NaN   \n",
       "7344         FUNDA TABLA DIBUJ 1/4W EXTREME IMPERMEABLE  ...           NaN   \n",
       "7345                    ARVEJAS ENVASADAS MCCAIN 500 GR  ...           1.0   \n",
       "\n",
       "      ESTA_EN_LIQUIDACION      RAZON_DE_EXCLUSION  POS_ACTUAL  POS_NUEVO  \\\n",
       "0                     NaN                    None         NaN        NaN   \n",
       "1                     NaN  ARTICULOS EN PROMOCION        0.95        NaN   \n",
       "2                     NaN                    None        1.09       0.99   \n",
       "3                     NaN                    None         NaN        NaN   \n",
       "4                     NaN                    None         NaN        NaN   \n",
       "...                   ...                     ...         ...        ...   \n",
       "7341                  NaN                    None         NaN        NaN   \n",
       "7342                  NaN                    None        0.93       0.99   \n",
       "7343                  NaN                    None        0.90       1.00   \n",
       "7344                  NaN                    None         NaN        NaN   \n",
       "7345                  NaN  ARTICULOS EN PROMOCION        0.93        NaN   \n",
       "\n",
       "      ULTIMO_PRECIO_ENVIADO FECHA_ULTIMO_ENVIO  ULTIMA_FECHA_RELEVO  \\\n",
       "0                167.814626         2025-08-04                 None   \n",
       "1                       NaN               None           2025-08-06   \n",
       "2                149.000000         2025-08-04           2025-08-06   \n",
       "3                 46.443170         2025-08-04                 None   \n",
       "4                 59.194732         2025-08-04                 None   \n",
       "...                     ...                ...                  ...   \n",
       "7341             409.592030         2025-08-04                 None   \n",
       "7342             105.000000         2025-08-04           2025-08-05   \n",
       "7343             210.000000         2025-08-04           2025-08-05   \n",
       "7344             308.440000         2025-08-04                 None   \n",
       "7345                    NaN               None           2025-08-06   \n",
       "\n",
       "     ULTIMO_PRECIO_RELEVADO  FECHA_ENVIO_INFO  \n",
       "0                       NaN        2025-08-06  \n",
       "1                     437.0        2025-08-06  \n",
       "2                     154.9        2025-08-06  \n",
       "3                       NaN        2025-08-06  \n",
       "4                       NaN        2025-08-06  \n",
       "...                     ...               ...  \n",
       "7341                    NaN        2025-08-06  \n",
       "7342                  122.0        2025-08-06  \n",
       "7343                  232.0        2025-08-06  \n",
       "7344                    NaN        2025-08-06  \n",
       "7345                  199.0        2025-08-06  \n",
       "\n",
       "[7346 rows x 40 columns]"
      ]
     },
     "execution_count": 8,
     "metadata": {},
     "output_type": "execute_result"
    }
   ],
   "source": [
    "cursor.execute('SELECT * FROM SANDBOX_PLUS.DWH.RESULTADO_MODELO_PRICING_198 WHERE FECHA_EJECUCION = CURRENT_DATE')\n",
    "df = cursor.fetch_pandas_all()\n",
    "df"
   ]
  },
  {
   "cell_type": "code",
   "execution_count": 9,
   "id": "2bee0453",
   "metadata": {},
   "outputs": [
    {
     "data": {
      "text/plain": [
       "2025"
      ]
     },
     "execution_count": 9,
     "metadata": {},
     "output_type": "execute_result"
    }
   ],
   "source": [
    "date.today().year"
   ]
  },
  {
   "cell_type": "code",
   "execution_count": 10,
   "id": "7f483c6c",
   "metadata": {},
   "outputs": [
    {
     "data": {
      "text/plain": [
       "'08'"
      ]
     },
     "execution_count": 10,
     "metadata": {},
     "output_type": "execute_result"
    }
   ],
   "source": [
    "if len(str(date.today().month)) > 1:\n",
    "    mes = str(date.today().month)\n",
    "else:\n",
    "    mes = '0' + str(date.today().month)\n",
    "mes"
   ]
  },
  {
   "cell_type": "code",
   "execution_count": 11,
   "id": "0e6ba2c4",
   "metadata": {},
   "outputs": [
    {
     "data": {
      "text/plain": [
       "'06'"
      ]
     },
     "execution_count": 11,
     "metadata": {},
     "output_type": "execute_result"
    }
   ],
   "source": [
    "if len(str(date.today().day)) > 1:\n",
    "    dia = str(date.today().day)\n",
    "else:\n",
    "    dia = '0' + str(date.today().day)\n",
    "dia"
   ]
  },
  {
   "cell_type": "code",
   "execution_count": 12,
   "id": "c2b6d667",
   "metadata": {},
   "outputs": [],
   "source": [
    "df.to_excel('INFO PRICING 198 ' + str(date.today().year) + mes + dia + '.xlsx', index=False)"
   ]
  },
  {
   "cell_type": "code",
   "execution_count": 13,
   "id": "2f6c2bea",
   "metadata": {},
   "outputs": [
    {
     "name": "stdout",
     "output_type": "stream",
     "text": [
      "Correo enviado exitosamente.\n"
     ]
    },
    {
     "data": {
      "text/plain": [
       "True"
      ]
     },
     "execution_count": 13,
     "metadata": {},
     "output_type": "execute_result"
    }
   ],
   "source": [
    "enviar_email(sender='marcos.larran@tata.com.uy', receiver=['marcela.moreira@tata.com.uy', 'nahuel.hartwig@tata.com.uy'],\n",
    "             subject='Modelo Pricing Ecommerce',\n",
    "             body='Buenas tardes\\n\\nSe envía el resultado del modelo de pricing de ecommerce del día de la fecha.\\n\\nSaludos,',\n",
    "             files=['INFO PRICING 198 ' + str(date.today().year) + mes + dia + '.xlsx'])"
   ]
  },
  {
   "cell_type": "code",
   "execution_count": 14,
   "id": "bebfe785",
   "metadata": {},
   "outputs": [],
   "source": [
    "os.remove('INFO PRICING 198 ' + str(date.today().year) + mes + dia + '.xlsx')"
   ]
  },
  {
   "cell_type": "code",
   "execution_count": 16,
   "id": "73895a6e",
   "metadata": {},
   "outputs": [
    {
     "name": "stdout",
     "output_type": "stream",
     "text": [
      "Correo enviado exitosamente.\n"
     ]
    },
    {
     "data": {
      "text/plain": [
       "True"
      ]
     },
     "execution_count": 16,
     "metadata": {},
     "output_type": "execute_result"
    }
   ],
   "source": [
    "enviar_email(sender='marcos.larran@tata.com.uy', receiver=['ds-team@gdn.com.uy'],\n",
    "             subject='Modelo Pricing Ecommerce', body='Hubo un problema con el modelo', files=[])"
   ]
  },
  {
   "cell_type": "code",
   "execution_count": null,
   "id": "e7b88212",
   "metadata": {},
   "outputs": [],
   "source": []
  }
 ],
 "metadata": {
  "kernelspec": {
   "display_name": "base",
   "language": "python",
   "name": "python3"
  },
  "language_info": {
   "codemirror_mode": {
    "name": "ipython",
    "version": 3
   },
   "file_extension": ".py",
   "mimetype": "text/x-python",
   "name": "python",
   "nbconvert_exporter": "python",
   "pygments_lexer": "ipython3",
   "version": "3.12.4"
  }
 },
 "nbformat": 4,
 "nbformat_minor": 5
}

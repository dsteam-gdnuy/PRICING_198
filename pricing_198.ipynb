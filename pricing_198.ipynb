{
 "cells": [
  {
   "cell_type": "code",
   "execution_count": 1,
   "id": "3860dcfc",
   "metadata": {},
   "outputs": [],
   "source": [
    "from utils import snowflake_login, enviar_email\n",
    "import os\n",
    "from datetime import date"
   ]
  },
  {
   "cell_type": "code",
   "execution_count": 2,
   "id": "9d965253",
   "metadata": {},
   "outputs": [
    {
     "data": {
      "text/plain": [
       "'C:\\\\USERS\\\\MARCOS.LARRAN\\\\DESKTOP\\\\GITHUB\\\\PRICING_198'"
      ]
     },
     "execution_count": 2,
     "metadata": {},
     "output_type": "execute_result"
    }
   ],
   "source": [
    "os.getcwd().upper()"
   ]
  },
  {
   "cell_type": "code",
   "execution_count": 3,
   "id": "980f7ebb",
   "metadata": {},
   "outputs": [
    {
     "name": "stdout",
     "output_type": "stream",
     "text": [
      "Intento 1\n",
      "Error: 250001 (08001): Failed to connect to DB: XZ23267-dp32414.snowflakecomputing.com:443. Incorrect username or password was specified.\n",
      "Incorrect Password - provide again\n",
      "Intento 2\n",
      "Correct Password - connected to SNOWFLAKE\n"
     ]
    }
   ],
   "source": [
    "user, cursor, snowflake_connection = snowflake_login()"
   ]
  },
  {
   "cell_type": "code",
   "execution_count": null,
   "id": "37fa4360",
   "metadata": {},
   "outputs": [
    {
     "data": {
      "text/plain": [
       "[(0,)]"
      ]
     },
     "execution_count": 11,
     "metadata": {},
     "output_type": "execute_result"
    }
   ],
   "source": [
    "cursor.execute('''SELECT COUNT(DISTINCT TIEM_DIA_ID) FROM SANDBOX_PLUS.DWH.RETAIL_COMPETENCIAS_UNIFICADO\n",
    "WHERE TIEM_DIA_ID > (SELECT MAX(FECHA_EJECUCION) FROM SANDBOX_PLUS.DWH.RESULTADO_MODELO_PRICING_198);\n",
    "               ''')\n",
    "cont = cursor.fetchall()\n",
    "cont"
   ]
  },
  {
   "cell_type": "code",
   "execution_count": 7,
   "id": "78d20fd3",
   "metadata": {},
   "outputs": [
    {
     "name": "stdout",
     "output_type": "stream",
     "text": [
      "Ok\n"
     ]
    }
   ],
   "source": [
    "if cont[0][0] > 1:\n",
    "    print('Ok')\n",
    "else:\n",
    "    enviar_email(sender='marcos.larran@tata.com.uy', receiver=['ds-team@gdn.com.uy'],\n",
    "                 subject='Modelo Pricing Ecommerce', body='Checkear task', files=[])"
   ]
  },
  {
   "cell_type": "code",
   "execution_count": 10,
   "id": "b34a4545",
   "metadata": {},
   "outputs": [
    {
     "data": {
      "text/html": [
       "<div>\n",
       "<style scoped>\n",
       "    .dataframe tbody tr th:only-of-type {\n",
       "        vertical-align: middle;\n",
       "    }\n",
       "\n",
       "    .dataframe tbody tr th {\n",
       "        vertical-align: top;\n",
       "    }\n",
       "\n",
       "    .dataframe thead th {\n",
       "        text-align: right;\n",
       "    }\n",
       "</style>\n",
       "<table border=\"1\" class=\"dataframe\">\n",
       "  <thead>\n",
       "    <tr style=\"text-align: right;\">\n",
       "      <th></th>\n",
       "      <th>CODIGO_TIENDA</th>\n",
       "      <th>NOMBRE_TIENDA</th>\n",
       "      <th>GRUPO</th>\n",
       "      <th>DEPT</th>\n",
       "      <th>CLASS</th>\n",
       "      <th>SUBCLASS</th>\n",
       "      <th>FAMILIA</th>\n",
       "      <th>INTEGRANTES_FAMILIA</th>\n",
       "      <th>ORIN</th>\n",
       "      <th>DESCRIPCION</th>\n",
       "      <th>...</th>\n",
       "      <th>ESTA_EN_PROMO</th>\n",
       "      <th>ESTA_EN_LIQUIDACION</th>\n",
       "      <th>RAZON_DE_EXCLUSION</th>\n",
       "      <th>POS_ACTUAL</th>\n",
       "      <th>POS_NUEVO</th>\n",
       "      <th>ULTIMO_PRECIO_ENVIADO</th>\n",
       "      <th>FECHA_ULTIMO_ENVIO</th>\n",
       "      <th>ULTIMA_FECHA_RELEVO</th>\n",
       "      <th>ULTIMO_PRECIO_RELEVADO</th>\n",
       "      <th>FECHA_ENVIO_INFO</th>\n",
       "    </tr>\n",
       "  </thead>\n",
       "  <tbody>\n",
       "    <tr>\n",
       "      <th>0</th>\n",
       "      <td>198</td>\n",
       "      <td>Darkstore</td>\n",
       "      <td>LACTEOS</td>\n",
       "      <td>PREPARADOS</td>\n",
       "      <td>MASAS</td>\n",
       "      <td>TAPAS PARA EMPANADAS</td>\n",
       "      <td>1000047993</td>\n",
       "      <td>2</td>\n",
       "      <td>1000047993</td>\n",
       "      <td>TAPAS PARA EMPANADA HORNO AVANTI X 15 U</td>\n",
       "      <td>...</td>\n",
       "      <td>NaN</td>\n",
       "      <td>NaN</td>\n",
       "      <td>None</td>\n",
       "      <td>0.99</td>\n",
       "      <td>0.99</td>\n",
       "      <td>138.000000</td>\n",
       "      <td>2025-08-08</td>\n",
       "      <td>2025-08-11</td>\n",
       "      <td>152.0</td>\n",
       "      <td>2025-08-11</td>\n",
       "    </tr>\n",
       "    <tr>\n",
       "      <th>1</th>\n",
       "      <td>198</td>\n",
       "      <td>Darkstore</td>\n",
       "      <td>HOGAR</td>\n",
       "      <td>EQUIPAMIENTOS DE COMEDOR</td>\n",
       "      <td>JARRAS</td>\n",
       "      <td>JARRAS PLASTICO</td>\n",
       "      <td>1000023738</td>\n",
       "      <td>1</td>\n",
       "      <td>1000023738</td>\n",
       "      <td>JARRA PLASTICA MEDIDORA GRADUADA 500CC</td>\n",
       "      <td>...</td>\n",
       "      <td>NaN</td>\n",
       "      <td>NaN</td>\n",
       "      <td>None</td>\n",
       "      <td>NaN</td>\n",
       "      <td>NaN</td>\n",
       "      <td>67.978000</td>\n",
       "      <td>2025-08-08</td>\n",
       "      <td>None</td>\n",
       "      <td>NaN</td>\n",
       "      <td>2025-08-11</td>\n",
       "    </tr>\n",
       "    <tr>\n",
       "      <th>2</th>\n",
       "      <td>198</td>\n",
       "      <td>Darkstore</td>\n",
       "      <td>PERFUMERIA</td>\n",
       "      <td>CUIDADO CAPILAR</td>\n",
       "      <td>SHAMPOO</td>\n",
       "      <td>SHAMPOOS COSMETICO</td>\n",
       "      <td>1000041123</td>\n",
       "      <td>1</td>\n",
       "      <td>1000041123</td>\n",
       "      <td>SHAMPOO FRUCTIS VITAMINADO FRESCUR 350.00 ML</td>\n",
       "      <td>...</td>\n",
       "      <td>1.0</td>\n",
       "      <td>NaN</td>\n",
       "      <td>ARTICULOS EN PROMOCION</td>\n",
       "      <td>0.84</td>\n",
       "      <td>NaN</td>\n",
       "      <td>NaN</td>\n",
       "      <td>None</td>\n",
       "      <td>2025-08-11</td>\n",
       "      <td>297.0</td>\n",
       "      <td>2025-08-11</td>\n",
       "    </tr>\n",
       "    <tr>\n",
       "      <th>3</th>\n",
       "      <td>198</td>\n",
       "      <td>Darkstore</td>\n",
       "      <td>COMESTIBLES</td>\n",
       "      <td>CONSERVAS Y LEGUMBRES</td>\n",
       "      <td>LEGUMBRES HIDRATADAS</td>\n",
       "      <td>GARBANZOS</td>\n",
       "      <td>1000051504</td>\n",
       "      <td>1</td>\n",
       "      <td>1000051504</td>\n",
       "      <td>GARBANZOS HIDRATADOS DO?A PUPA 340 GR</td>\n",
       "      <td>...</td>\n",
       "      <td>NaN</td>\n",
       "      <td>NaN</td>\n",
       "      <td>None</td>\n",
       "      <td>NaN</td>\n",
       "      <td>NaN</td>\n",
       "      <td>42.000000</td>\n",
       "      <td>2025-08-08</td>\n",
       "      <td>None</td>\n",
       "      <td>NaN</td>\n",
       "      <td>2025-08-11</td>\n",
       "    </tr>\n",
       "    <tr>\n",
       "      <th>4</th>\n",
       "      <td>198</td>\n",
       "      <td>Darkstore</td>\n",
       "      <td>FRUVER</td>\n",
       "      <td>COMPLEMENTOS</td>\n",
       "      <td>FUEGO</td>\n",
       "      <td>CARBONES</td>\n",
       "      <td>1000522395</td>\n",
       "      <td>1</td>\n",
       "      <td>1000522395</td>\n",
       "      <td>CARBON PREMIUM LA GRAN FAMILIA MEZCLA CON BRIQ...</td>\n",
       "      <td>...</td>\n",
       "      <td>NaN</td>\n",
       "      <td>NaN</td>\n",
       "      <td>None</td>\n",
       "      <td>NaN</td>\n",
       "      <td>NaN</td>\n",
       "      <td>148.000000</td>\n",
       "      <td>2025-08-08</td>\n",
       "      <td>None</td>\n",
       "      <td>NaN</td>\n",
       "      <td>2025-08-11</td>\n",
       "    </tr>\n",
       "    <tr>\n",
       "      <th>...</th>\n",
       "      <td>...</td>\n",
       "      <td>...</td>\n",
       "      <td>...</td>\n",
       "      <td>...</td>\n",
       "      <td>...</td>\n",
       "      <td>...</td>\n",
       "      <td>...</td>\n",
       "      <td>...</td>\n",
       "      <td>...</td>\n",
       "      <td>...</td>\n",
       "      <td>...</td>\n",
       "      <td>...</td>\n",
       "      <td>...</td>\n",
       "      <td>...</td>\n",
       "      <td>...</td>\n",
       "      <td>...</td>\n",
       "      <td>...</td>\n",
       "      <td>...</td>\n",
       "      <td>...</td>\n",
       "      <td>...</td>\n",
       "      <td>...</td>\n",
       "    </tr>\n",
       "    <tr>\n",
       "      <th>7341</th>\n",
       "      <td>198</td>\n",
       "      <td>Darkstore</td>\n",
       "      <td>JUGUETERIA</td>\n",
       "      <td>JUGUETERIA UNISEX</td>\n",
       "      <td>JUEGOS DE MESA</td>\n",
       "      <td>PUZZLES</td>\n",
       "      <td>1000529158</td>\n",
       "      <td>1</td>\n",
       "      <td>1000529158</td>\n",
       "      <td>PERRITO PARA ARMAR 700 PCS</td>\n",
       "      <td>...</td>\n",
       "      <td>NaN</td>\n",
       "      <td>NaN</td>\n",
       "      <td>None</td>\n",
       "      <td>NaN</td>\n",
       "      <td>NaN</td>\n",
       "      <td>177.694064</td>\n",
       "      <td>2025-08-08</td>\n",
       "      <td>None</td>\n",
       "      <td>NaN</td>\n",
       "      <td>2025-08-11</td>\n",
       "    </tr>\n",
       "    <tr>\n",
       "      <th>7342</th>\n",
       "      <td>198</td>\n",
       "      <td>Darkstore</td>\n",
       "      <td>LIMPIEZA DEL HOGAR</td>\n",
       "      <td>CUIDADO DE SUPERFICIES</td>\n",
       "      <td>LUSTRE HOGAR</td>\n",
       "      <td>CERAS PARA PISOS</td>\n",
       "      <td>1000289922</td>\n",
       "      <td>1</td>\n",
       "      <td>1000289922</td>\n",
       "      <td>BLEM LIMPIA ENCERA CONCENTRADO PISOS PLASTIFIC...</td>\n",
       "      <td>...</td>\n",
       "      <td>1.0</td>\n",
       "      <td>NaN</td>\n",
       "      <td>ARTICULOS EN PROMOCION</td>\n",
       "      <td>0.99</td>\n",
       "      <td>NaN</td>\n",
       "      <td>NaN</td>\n",
       "      <td>None</td>\n",
       "      <td>2025-08-11</td>\n",
       "      <td>179.9</td>\n",
       "      <td>2025-08-11</td>\n",
       "    </tr>\n",
       "    <tr>\n",
       "      <th>7343</th>\n",
       "      <td>198</td>\n",
       "      <td>Darkstore</td>\n",
       "      <td>COMESTIBLES</td>\n",
       "      <td>CONSERVAS Y LEGUMBRES</td>\n",
       "      <td>VEGETALES ENLATADOS</td>\n",
       "      <td>CHAMPIGNONES</td>\n",
       "      <td>1000460712</td>\n",
       "      <td>1</td>\n",
       "      <td>1000460712</td>\n",
       "      <td>CHAMPIGNON ENTERO RIO DE LA PLATA 400 GR</td>\n",
       "      <td>...</td>\n",
       "      <td>NaN</td>\n",
       "      <td>NaN</td>\n",
       "      <td>None</td>\n",
       "      <td>NaN</td>\n",
       "      <td>NaN</td>\n",
       "      <td>142.000000</td>\n",
       "      <td>2025-08-08</td>\n",
       "      <td>None</td>\n",
       "      <td>NaN</td>\n",
       "      <td>2025-08-11</td>\n",
       "    </tr>\n",
       "    <tr>\n",
       "      <th>7344</th>\n",
       "      <td>198</td>\n",
       "      <td>Darkstore</td>\n",
       "      <td>LACTEOS</td>\n",
       "      <td>YOGURES</td>\n",
       "      <td>YOGURES BEBIBLES</td>\n",
       "      <td>YOGURES BEBIBLES LIGHT</td>\n",
       "      <td>1000047511</td>\n",
       "      <td>3</td>\n",
       "      <td>1000047465</td>\n",
       "      <td>YOGUR COLONIAL FRUTILLA LIGHT DESLACTOSADO POT...</td>\n",
       "      <td>...</td>\n",
       "      <td>NaN</td>\n",
       "      <td>NaN</td>\n",
       "      <td>None</td>\n",
       "      <td>0.99</td>\n",
       "      <td>0.99</td>\n",
       "      <td>122.000000</td>\n",
       "      <td>2025-08-08</td>\n",
       "      <td>2025-08-11</td>\n",
       "      <td>123.0</td>\n",
       "      <td>2025-08-11</td>\n",
       "    </tr>\n",
       "    <tr>\n",
       "      <th>7345</th>\n",
       "      <td>198</td>\n",
       "      <td>Darkstore</td>\n",
       "      <td>LIBRERIA</td>\n",
       "      <td>ESCRITURA</td>\n",
       "      <td>MARCADORES</td>\n",
       "      <td>MARCADORES PIZARRA</td>\n",
       "      <td>1000045815</td>\n",
       "      <td>3</td>\n",
       "      <td>1000045815</td>\n",
       "      <td>MARCADOR STABILO PIZARRA AZUL</td>\n",
       "      <td>...</td>\n",
       "      <td>NaN</td>\n",
       "      <td>NaN</td>\n",
       "      <td>None</td>\n",
       "      <td>NaN</td>\n",
       "      <td>NaN</td>\n",
       "      <td>69.356600</td>\n",
       "      <td>2025-08-08</td>\n",
       "      <td>None</td>\n",
       "      <td>NaN</td>\n",
       "      <td>2025-08-11</td>\n",
       "    </tr>\n",
       "  </tbody>\n",
       "</table>\n",
       "<p>7346 rows × 40 columns</p>\n",
       "</div>"
      ],
      "text/plain": [
       "     CODIGO_TIENDA NOMBRE_TIENDA               GRUPO  \\\n",
       "0              198     Darkstore             LACTEOS   \n",
       "1              198     Darkstore               HOGAR   \n",
       "2              198     Darkstore          PERFUMERIA   \n",
       "3              198     Darkstore         COMESTIBLES   \n",
       "4              198     Darkstore              FRUVER   \n",
       "...            ...           ...                 ...   \n",
       "7341           198     Darkstore          JUGUETERIA   \n",
       "7342           198     Darkstore  LIMPIEZA DEL HOGAR   \n",
       "7343           198     Darkstore         COMESTIBLES   \n",
       "7344           198     Darkstore             LACTEOS   \n",
       "7345           198     Darkstore            LIBRERIA   \n",
       "\n",
       "                          DEPT                 CLASS                SUBCLASS  \\\n",
       "0                   PREPARADOS                 MASAS    TAPAS PARA EMPANADAS   \n",
       "1     EQUIPAMIENTOS DE COMEDOR                JARRAS         JARRAS PLASTICO   \n",
       "2              CUIDADO CAPILAR               SHAMPOO      SHAMPOOS COSMETICO   \n",
       "3        CONSERVAS Y LEGUMBRES  LEGUMBRES HIDRATADAS               GARBANZOS   \n",
       "4                 COMPLEMENTOS                 FUEGO                CARBONES   \n",
       "...                        ...                   ...                     ...   \n",
       "7341         JUGUETERIA UNISEX        JUEGOS DE MESA                 PUZZLES   \n",
       "7342    CUIDADO DE SUPERFICIES          LUSTRE HOGAR        CERAS PARA PISOS   \n",
       "7343     CONSERVAS Y LEGUMBRES   VEGETALES ENLATADOS            CHAMPIGNONES   \n",
       "7344                   YOGURES      YOGURES BEBIBLES  YOGURES BEBIBLES LIGHT   \n",
       "7345                 ESCRITURA            MARCADORES      MARCADORES PIZARRA   \n",
       "\n",
       "         FAMILIA  INTEGRANTES_FAMILIA        ORIN  \\\n",
       "0     1000047993                    2  1000047993   \n",
       "1     1000023738                    1  1000023738   \n",
       "2     1000041123                    1  1000041123   \n",
       "3     1000051504                    1  1000051504   \n",
       "4     1000522395                    1  1000522395   \n",
       "...          ...                  ...         ...   \n",
       "7341  1000529158                    1  1000529158   \n",
       "7342  1000289922                    1  1000289922   \n",
       "7343  1000460712                    1  1000460712   \n",
       "7344  1000047511                    3  1000047465   \n",
       "7345  1000045815                    3  1000045815   \n",
       "\n",
       "                                            DESCRIPCION  ... ESTA_EN_PROMO  \\\n",
       "0               TAPAS PARA EMPANADA HORNO AVANTI X 15 U  ...           NaN   \n",
       "1                JARRA PLASTICA MEDIDORA GRADUADA 500CC  ...           NaN   \n",
       "2          SHAMPOO FRUCTIS VITAMINADO FRESCUR 350.00 ML  ...           1.0   \n",
       "3                 GARBANZOS HIDRATADOS DO?A PUPA 340 GR  ...           NaN   \n",
       "4     CARBON PREMIUM LA GRAN FAMILIA MEZCLA CON BRIQ...  ...           NaN   \n",
       "...                                                 ...  ...           ...   \n",
       "7341                         PERRITO PARA ARMAR 700 PCS  ...           NaN   \n",
       "7342  BLEM LIMPIA ENCERA CONCENTRADO PISOS PLASTIFIC...  ...           1.0   \n",
       "7343           CHAMPIGNON ENTERO RIO DE LA PLATA 400 GR  ...           NaN   \n",
       "7344  YOGUR COLONIAL FRUTILLA LIGHT DESLACTOSADO POT...  ...           NaN   \n",
       "7345                      MARCADOR STABILO PIZARRA AZUL  ...           NaN   \n",
       "\n",
       "      ESTA_EN_LIQUIDACION      RAZON_DE_EXCLUSION  POS_ACTUAL  POS_NUEVO  \\\n",
       "0                     NaN                    None        0.99       0.99   \n",
       "1                     NaN                    None         NaN        NaN   \n",
       "2                     NaN  ARTICULOS EN PROMOCION        0.84        NaN   \n",
       "3                     NaN                    None         NaN        NaN   \n",
       "4                     NaN                    None         NaN        NaN   \n",
       "...                   ...                     ...         ...        ...   \n",
       "7341                  NaN                    None         NaN        NaN   \n",
       "7342                  NaN  ARTICULOS EN PROMOCION        0.99        NaN   \n",
       "7343                  NaN                    None         NaN        NaN   \n",
       "7344                  NaN                    None        0.99       0.99   \n",
       "7345                  NaN                    None         NaN        NaN   \n",
       "\n",
       "      ULTIMO_PRECIO_ENVIADO FECHA_ULTIMO_ENVIO  ULTIMA_FECHA_RELEVO  \\\n",
       "0                138.000000         2025-08-08           2025-08-11   \n",
       "1                 67.978000         2025-08-08                 None   \n",
       "2                       NaN               None           2025-08-11   \n",
       "3                 42.000000         2025-08-08                 None   \n",
       "4                148.000000         2025-08-08                 None   \n",
       "...                     ...                ...                  ...   \n",
       "7341             177.694064         2025-08-08                 None   \n",
       "7342                    NaN               None           2025-08-11   \n",
       "7343             142.000000         2025-08-08                 None   \n",
       "7344             122.000000         2025-08-08           2025-08-11   \n",
       "7345              69.356600         2025-08-08                 None   \n",
       "\n",
       "     ULTIMO_PRECIO_RELEVADO  FECHA_ENVIO_INFO  \n",
       "0                     152.0        2025-08-11  \n",
       "1                       NaN        2025-08-11  \n",
       "2                     297.0        2025-08-11  \n",
       "3                       NaN        2025-08-11  \n",
       "4                       NaN        2025-08-11  \n",
       "...                     ...               ...  \n",
       "7341                    NaN        2025-08-11  \n",
       "7342                  179.9        2025-08-11  \n",
       "7343                    NaN        2025-08-11  \n",
       "7344                  123.0        2025-08-11  \n",
       "7345                    NaN        2025-08-11  \n",
       "\n",
       "[7346 rows x 40 columns]"
      ]
     },
     "execution_count": 10,
     "metadata": {},
     "output_type": "execute_result"
    }
   ],
   "source": [
    "cursor.execute('SELECT * FROM SANDBOX_PLUS.DWH.RESULTADO_MODELO_PRICING_198 WHERE FECHA_EJECUCION = CURRENT_DATE')\n",
    "df = cursor.fetch_pandas_all()\n",
    "df"
   ]
  },
  {
   "cell_type": "code",
   "execution_count": 9,
   "id": "2bee0453",
   "metadata": {},
   "outputs": [
    {
     "data": {
      "text/plain": [
       "2025"
      ]
     },
     "execution_count": 9,
     "metadata": {},
     "output_type": "execute_result"
    }
   ],
   "source": [
    "date.today().year"
   ]
  },
  {
   "cell_type": "code",
   "execution_count": 10,
   "id": "7f483c6c",
   "metadata": {},
   "outputs": [
    {
     "data": {
      "text/plain": [
       "'08'"
      ]
     },
     "execution_count": 10,
     "metadata": {},
     "output_type": "execute_result"
    }
   ],
   "source": [
    "if len(str(date.today().month)) > 1:\n",
    "    mes = str(date.today().month)\n",
    "else:\n",
    "    mes = '0' + str(date.today().month)\n",
    "mes"
   ]
  },
  {
   "cell_type": "code",
   "execution_count": 11,
   "id": "0e6ba2c4",
   "metadata": {},
   "outputs": [
    {
     "data": {
      "text/plain": [
       "'06'"
      ]
     },
     "execution_count": 11,
     "metadata": {},
     "output_type": "execute_result"
    }
   ],
   "source": [
    "if len(str(date.today().day)) > 1:\n",
    "    dia = str(date.today().day)\n",
    "else:\n",
    "    dia = '0' + str(date.today().day)\n",
    "dia"
   ]
  },
  {
   "cell_type": "code",
   "execution_count": 12,
   "id": "c2b6d667",
   "metadata": {},
   "outputs": [],
   "source": [
    "df.to_excel('INFO PRICING 198 ' + str(date.today().year) + mes + dia + '.xlsx', index=False)"
   ]
  },
  {
   "cell_type": "code",
   "execution_count": 13,
   "id": "2f6c2bea",
   "metadata": {},
   "outputs": [
    {
     "name": "stdout",
     "output_type": "stream",
     "text": [
      "Correo enviado exitosamente.\n"
     ]
    },
    {
     "data": {
      "text/plain": [
       "True"
      ]
     },
     "execution_count": 13,
     "metadata": {},
     "output_type": "execute_result"
    }
   ],
   "source": [
    "enviar_email(sender='marcos.larran@tata.com.uy', receiver=['marcela.moreira@tata.com.uy', 'nahuel.hartwig@tata.com.uy'],\n",
    "             subject='Modelo Pricing Ecommerce',\n",
    "             body='Buenas tardes\\n\\nSe envía el resultado del modelo de pricing de ecommerce del día de la fecha.\\n\\nSaludos,',\n",
    "             files=['INFO PRICING 198 ' + str(date.today().year) + mes + dia + '.xlsx'])"
   ]
  },
  {
   "cell_type": "code",
   "execution_count": 14,
   "id": "bebfe785",
   "metadata": {},
   "outputs": [],
   "source": [
    "os.remove('INFO PRICING 198 ' + str(date.today().year) + mes + dia + '.xlsx')"
   ]
  },
  {
   "cell_type": "code",
   "execution_count": 16,
   "id": "73895a6e",
   "metadata": {},
   "outputs": [
    {
     "name": "stdout",
     "output_type": "stream",
     "text": [
      "Correo enviado exitosamente.\n"
     ]
    },
    {
     "data": {
      "text/plain": [
       "True"
      ]
     },
     "execution_count": 16,
     "metadata": {},
     "output_type": "execute_result"
    }
   ],
   "source": [
    "enviar_email(sender='marcos.larran@tata.com.uy', receiver=['ds-team@gdn.com.uy'],\n",
    "             subject='Modelo Pricing Ecommerce', body='Hubo un problema con el modelo', files=[])"
   ]
  },
  {
   "cell_type": "code",
   "execution_count": null,
   "id": "e7b88212",
   "metadata": {},
   "outputs": [],
   "source": []
  }
 ],
 "metadata": {
  "kernelspec": {
   "display_name": "base",
   "language": "python",
   "name": "python3"
  },
  "language_info": {
   "codemirror_mode": {
    "name": "ipython",
    "version": 3
   },
   "file_extension": ".py",
   "mimetype": "text/x-python",
   "name": "python",
   "nbconvert_exporter": "python",
   "pygments_lexer": "ipython3",
   "version": "3.12.4"
  }
 },
 "nbformat": 4,
 "nbformat_minor": 5
}
